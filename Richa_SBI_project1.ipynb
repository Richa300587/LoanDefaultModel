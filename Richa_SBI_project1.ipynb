{
  "cells": [
    {
      "cell_type": "markdown",
      "id": "a0c9b618",
      "metadata": {
        "id": "a0c9b618"
      },
      "source": [
        "## Preparation\n",
        "Preparing the data set "
      ]
    },
    {
      "cell_type": "code",
      "execution_count": 153,
      "id": "3ca7e035",
      "metadata": {
        "colab": {
          "base_uri": "https://localhost:8080/",
          "height": 17
        },
        "id": "3ca7e035",
        "outputId": "e7cf5fc9-e45f-4fcb-e390-6ab501245233"
      },
      "outputs": [
        {
          "output_type": "display_data",
          "data": {
            "text/plain": [
              "<IPython.core.display.HTML object>"
            ],
            "text/html": [
              "<style>.container { width:80% !important; }</style>"
            ]
          },
          "metadata": {}
        }
      ],
      "source": [
        "import numpy as np\n",
        "import pandas as pd\n",
        "import pickle\n",
        "pd.set_option('display.max_columns', 1500)\n",
        "# set seed for reproducibility\n",
        "np.random.seed(123)\n",
        "\n",
        "\n",
        "import warnings\n",
        "warnings.filterwarnings('ignore')\n",
        "\n",
        "#Extend cell width\n",
        "from IPython.core.display import display, HTML\n",
        "display(HTML(\"<style>.container { width:80% !important; }</style>\"))"
      ]
    },
    {
      "cell_type": "code",
      "execution_count": 154,
      "outputs": [
        {
          "output_type": "stream",
          "name": "stdout",
          "text": [
            "Looking in indexes: https://pypi.org/simple, https://us-python.pkg.dev/colab-wheels/public/simple/\n",
            "Requirement already satisfied: dill in /usr/local/lib/python3.8/dist-packages (0.3.6)\n"
          ]
        }
      ],
      "source": [
        "!pip install dill"
      ],
      "metadata": {
        "pycharm": {
          "name": "#%%\n"
        },
        "colab": {
          "base_uri": "https://localhost:8080/"
        },
        "id": "DyCD6FjpLmP5",
        "outputId": "82b271f6-529c-433e-bdbc-44343d3d8c0c"
      },
      "id": "DyCD6FjpLmP5"
    },
    {
      "cell_type": "markdown",
      "id": "cee2c254",
      "metadata": {
        "id": "cee2c254"
      },
      "source": [
        "### Load data"
      ]
    },
    {
      "cell_type": "code",
      "source": [
        "from google.colab import drive\n",
        "drive.mount('/content/drive')"
      ],
      "metadata": {
        "colab": {
          "base_uri": "https://localhost:8080/"
        },
        "id": "Y_g70VzUfuTp",
        "outputId": "aee5b9a1-603d-4a83-b133-f3c995228ac3"
      },
      "id": "Y_g70VzUfuTp",
      "execution_count": 155,
      "outputs": [
        {
          "output_type": "stream",
          "name": "stdout",
          "text": [
            "Drive already mounted at /content/drive; to attempt to forcibly remount, call drive.mount(\"/content/drive\", force_remount=True).\n"
          ]
        }
      ]
    },
    {
      "cell_type": "code",
      "execution_count": 156,
      "outputs": [],
      "source": [
        "data =pd.read_csv('/content/drive/MyDrive/MachineLearning/Labs/Labs/Project1/data/SBA_loans_project_1.zip')"
      ],
      "metadata": {
        "pycharm": {
          "name": "#%%\n"
        },
        "id": "qF9mlXHOLmP8"
      },
      "id": "qF9mlXHOLmP8"
    },
    {
      "cell_type": "code",
      "execution_count": 157,
      "id": "2301a5ed",
      "metadata": {
        "colab": {
          "base_uri": "https://localhost:8080/"
        },
        "id": "2301a5ed",
        "outputId": "0a460dd2-843c-423d-d5c2-58ecf22e7f38"
      },
      "outputs": [
        {
          "output_type": "stream",
          "name": "stdout",
          "text": [
            "Data shape: (809247, 20)\n"
          ]
        }
      ],
      "source": [
        "print(\"Data shape:\", data.shape)"
      ]
    },
    {
      "cell_type": "code",
      "source": [
        "data.dtypes"
      ],
      "metadata": {
        "colab": {
          "base_uri": "https://localhost:8080/"
        },
        "id": "aWxEQGsYgM-c",
        "outputId": "91b30a5e-c396-4fe3-cdf4-81f6ce80d5ab"
      },
      "id": "aWxEQGsYgM-c",
      "execution_count": 158,
      "outputs": [
        {
          "output_type": "execute_result",
          "data": {
            "text/plain": [
              "City                  object\n",
              "State                 object\n",
              "Zip                    int64\n",
              "Bank                  object\n",
              "BankState             object\n",
              "NAICS                  int64\n",
              "Term                   int64\n",
              "NoEmp                  int64\n",
              "NewExist             float64\n",
              "CreateJob              int64\n",
              "RetainedJob            int64\n",
              "FranchiseCode          int64\n",
              "UrbanRural             int64\n",
              "RevLineCr             object\n",
              "LowDoc                object\n",
              "DisbursementGross     object\n",
              "BalanceGross          object\n",
              "GrAppv                object\n",
              "SBA_Appv              object\n",
              "MIS_Status            object\n",
              "dtype: object"
            ]
          },
          "metadata": {},
          "execution_count": 158
        }
      ]
    },
    {
      "cell_type": "markdown",
      "id": "ab8b4aea",
      "metadata": {
        "id": "ab8b4aea"
      },
      "source": [
        "**Review dataset**"
      ]
    },
    {
      "cell_type": "code",
      "source": [
        "#describe commands give a description of numeric columns only\n",
        "data.describe()"
      ],
      "metadata": {
        "colab": {
          "base_uri": "https://localhost:8080/",
          "height": 300
        },
        "id": "r0c3CozzgFj9",
        "outputId": "c89da91b-8054-4150-c250-250a35f6218d"
      },
      "id": "r0c3CozzgFj9",
      "execution_count": 159,
      "outputs": [
        {
          "output_type": "execute_result",
          "data": {
            "text/plain": [
              "                 Zip          NAICS           Term          NoEmp  \\\n",
              "count  809247.000000  809247.000000  809247.000000  809247.000000   \n",
              "mean    53800.937004  398573.783610     110.798776      11.414084   \n",
              "std     31186.367109  263354.979813      78.872428      74.529429   \n",
              "min         0.000000       0.000000       0.000000       0.000000   \n",
              "25%     27577.000000  235210.000000      60.000000       2.000000   \n",
              "50%     55411.000000  445310.000000      84.000000       4.000000   \n",
              "75%     83704.000000  561730.000000     120.000000      10.000000   \n",
              "max     99999.000000  928120.000000     569.000000    9999.000000   \n",
              "\n",
              "            NewExist      CreateJob    RetainedJob  FranchiseCode  \\\n",
              "count  809119.000000  809247.000000  809247.000000  809247.000000   \n",
              "mean        1.280276       8.415866      10.773366    2751.939176   \n",
              "std         0.451692     236.288348     236.612053   12758.411810   \n",
              "min         0.000000       0.000000       0.000000       0.000000   \n",
              "25%         1.000000       0.000000       0.000000       1.000000   \n",
              "50%         1.000000       0.000000       1.000000       1.000000   \n",
              "75%         2.000000       1.000000       4.000000       1.000000   \n",
              "max         2.000000    8800.000000    9500.000000   99999.000000   \n",
              "\n",
              "          UrbanRural  \n",
              "count  809247.000000  \n",
              "mean        0.757748  \n",
              "std         0.646347  \n",
              "min         0.000000  \n",
              "25%         0.000000  \n",
              "50%         1.000000  \n",
              "75%         1.000000  \n",
              "max         2.000000  "
            ],
            "text/html": [
              "\n",
              "  <div id=\"df-600b62e6-492d-41c2-9964-aed586926801\">\n",
              "    <div class=\"colab-df-container\">\n",
              "      <div>\n",
              "<style scoped>\n",
              "    .dataframe tbody tr th:only-of-type {\n",
              "        vertical-align: middle;\n",
              "    }\n",
              "\n",
              "    .dataframe tbody tr th {\n",
              "        vertical-align: top;\n",
              "    }\n",
              "\n",
              "    .dataframe thead th {\n",
              "        text-align: right;\n",
              "    }\n",
              "</style>\n",
              "<table border=\"1\" class=\"dataframe\">\n",
              "  <thead>\n",
              "    <tr style=\"text-align: right;\">\n",
              "      <th></th>\n",
              "      <th>Zip</th>\n",
              "      <th>NAICS</th>\n",
              "      <th>Term</th>\n",
              "      <th>NoEmp</th>\n",
              "      <th>NewExist</th>\n",
              "      <th>CreateJob</th>\n",
              "      <th>RetainedJob</th>\n",
              "      <th>FranchiseCode</th>\n",
              "      <th>UrbanRural</th>\n",
              "    </tr>\n",
              "  </thead>\n",
              "  <tbody>\n",
              "    <tr>\n",
              "      <th>count</th>\n",
              "      <td>809247.000000</td>\n",
              "      <td>809247.000000</td>\n",
              "      <td>809247.000000</td>\n",
              "      <td>809247.000000</td>\n",
              "      <td>809119.000000</td>\n",
              "      <td>809247.000000</td>\n",
              "      <td>809247.000000</td>\n",
              "      <td>809247.000000</td>\n",
              "      <td>809247.000000</td>\n",
              "    </tr>\n",
              "    <tr>\n",
              "      <th>mean</th>\n",
              "      <td>53800.937004</td>\n",
              "      <td>398573.783610</td>\n",
              "      <td>110.798776</td>\n",
              "      <td>11.414084</td>\n",
              "      <td>1.280276</td>\n",
              "      <td>8.415866</td>\n",
              "      <td>10.773366</td>\n",
              "      <td>2751.939176</td>\n",
              "      <td>0.757748</td>\n",
              "    </tr>\n",
              "    <tr>\n",
              "      <th>std</th>\n",
              "      <td>31186.367109</td>\n",
              "      <td>263354.979813</td>\n",
              "      <td>78.872428</td>\n",
              "      <td>74.529429</td>\n",
              "      <td>0.451692</td>\n",
              "      <td>236.288348</td>\n",
              "      <td>236.612053</td>\n",
              "      <td>12758.411810</td>\n",
              "      <td>0.646347</td>\n",
              "    </tr>\n",
              "    <tr>\n",
              "      <th>min</th>\n",
              "      <td>0.000000</td>\n",
              "      <td>0.000000</td>\n",
              "      <td>0.000000</td>\n",
              "      <td>0.000000</td>\n",
              "      <td>0.000000</td>\n",
              "      <td>0.000000</td>\n",
              "      <td>0.000000</td>\n",
              "      <td>0.000000</td>\n",
              "      <td>0.000000</td>\n",
              "    </tr>\n",
              "    <tr>\n",
              "      <th>25%</th>\n",
              "      <td>27577.000000</td>\n",
              "      <td>235210.000000</td>\n",
              "      <td>60.000000</td>\n",
              "      <td>2.000000</td>\n",
              "      <td>1.000000</td>\n",
              "      <td>0.000000</td>\n",
              "      <td>0.000000</td>\n",
              "      <td>1.000000</td>\n",
              "      <td>0.000000</td>\n",
              "    </tr>\n",
              "    <tr>\n",
              "      <th>50%</th>\n",
              "      <td>55411.000000</td>\n",
              "      <td>445310.000000</td>\n",
              "      <td>84.000000</td>\n",
              "      <td>4.000000</td>\n",
              "      <td>1.000000</td>\n",
              "      <td>0.000000</td>\n",
              "      <td>1.000000</td>\n",
              "      <td>1.000000</td>\n",
              "      <td>1.000000</td>\n",
              "    </tr>\n",
              "    <tr>\n",
              "      <th>75%</th>\n",
              "      <td>83704.000000</td>\n",
              "      <td>561730.000000</td>\n",
              "      <td>120.000000</td>\n",
              "      <td>10.000000</td>\n",
              "      <td>2.000000</td>\n",
              "      <td>1.000000</td>\n",
              "      <td>4.000000</td>\n",
              "      <td>1.000000</td>\n",
              "      <td>1.000000</td>\n",
              "    </tr>\n",
              "    <tr>\n",
              "      <th>max</th>\n",
              "      <td>99999.000000</td>\n",
              "      <td>928120.000000</td>\n",
              "      <td>569.000000</td>\n",
              "      <td>9999.000000</td>\n",
              "      <td>2.000000</td>\n",
              "      <td>8800.000000</td>\n",
              "      <td>9500.000000</td>\n",
              "      <td>99999.000000</td>\n",
              "      <td>2.000000</td>\n",
              "    </tr>\n",
              "  </tbody>\n",
              "</table>\n",
              "</div>\n",
              "      <button class=\"colab-df-convert\" onclick=\"convertToInteractive('df-600b62e6-492d-41c2-9964-aed586926801')\"\n",
              "              title=\"Convert this dataframe to an interactive table.\"\n",
              "              style=\"display:none;\">\n",
              "        \n",
              "  <svg xmlns=\"http://www.w3.org/2000/svg\" height=\"24px\"viewBox=\"0 0 24 24\"\n",
              "       width=\"24px\">\n",
              "    <path d=\"M0 0h24v24H0V0z\" fill=\"none\"/>\n",
              "    <path d=\"M18.56 5.44l.94 2.06.94-2.06 2.06-.94-2.06-.94-.94-2.06-.94 2.06-2.06.94zm-11 1L8.5 8.5l.94-2.06 2.06-.94-2.06-.94L8.5 2.5l-.94 2.06-2.06.94zm10 10l.94 2.06.94-2.06 2.06-.94-2.06-.94-.94-2.06-.94 2.06-2.06.94z\"/><path d=\"M17.41 7.96l-1.37-1.37c-.4-.4-.92-.59-1.43-.59-.52 0-1.04.2-1.43.59L10.3 9.45l-7.72 7.72c-.78.78-.78 2.05 0 2.83L4 21.41c.39.39.9.59 1.41.59.51 0 1.02-.2 1.41-.59l7.78-7.78 2.81-2.81c.8-.78.8-2.07 0-2.86zM5.41 20L4 18.59l7.72-7.72 1.47 1.35L5.41 20z\"/>\n",
              "  </svg>\n",
              "      </button>\n",
              "      \n",
              "  <style>\n",
              "    .colab-df-container {\n",
              "      display:flex;\n",
              "      flex-wrap:wrap;\n",
              "      gap: 12px;\n",
              "    }\n",
              "\n",
              "    .colab-df-convert {\n",
              "      background-color: #E8F0FE;\n",
              "      border: none;\n",
              "      border-radius: 50%;\n",
              "      cursor: pointer;\n",
              "      display: none;\n",
              "      fill: #1967D2;\n",
              "      height: 32px;\n",
              "      padding: 0 0 0 0;\n",
              "      width: 32px;\n",
              "    }\n",
              "\n",
              "    .colab-df-convert:hover {\n",
              "      background-color: #E2EBFA;\n",
              "      box-shadow: 0px 1px 2px rgba(60, 64, 67, 0.3), 0px 1px 3px 1px rgba(60, 64, 67, 0.15);\n",
              "      fill: #174EA6;\n",
              "    }\n",
              "\n",
              "    [theme=dark] .colab-df-convert {\n",
              "      background-color: #3B4455;\n",
              "      fill: #D2E3FC;\n",
              "    }\n",
              "\n",
              "    [theme=dark] .colab-df-convert:hover {\n",
              "      background-color: #434B5C;\n",
              "      box-shadow: 0px 1px 3px 1px rgba(0, 0, 0, 0.15);\n",
              "      filter: drop-shadow(0px 1px 2px rgba(0, 0, 0, 0.3));\n",
              "      fill: #FFFFFF;\n",
              "    }\n",
              "  </style>\n",
              "\n",
              "      <script>\n",
              "        const buttonEl =\n",
              "          document.querySelector('#df-600b62e6-492d-41c2-9964-aed586926801 button.colab-df-convert');\n",
              "        buttonEl.style.display =\n",
              "          google.colab.kernel.accessAllowed ? 'block' : 'none';\n",
              "\n",
              "        async function convertToInteractive(key) {\n",
              "          const element = document.querySelector('#df-600b62e6-492d-41c2-9964-aed586926801');\n",
              "          const dataTable =\n",
              "            await google.colab.kernel.invokeFunction('convertToInteractive',\n",
              "                                                     [key], {});\n",
              "          if (!dataTable) return;\n",
              "\n",
              "          const docLinkHtml = 'Like what you see? Visit the ' +\n",
              "            '<a target=\"_blank\" href=https://colab.research.google.com/notebooks/data_table.ipynb>data table notebook</a>'\n",
              "            + ' to learn more about interactive tables.';\n",
              "          element.innerHTML = '';\n",
              "          dataTable['output_type'] = 'display_data';\n",
              "          await google.colab.output.renderOutput(dataTable, element);\n",
              "          const docLink = document.createElement('div');\n",
              "          docLink.innerHTML = docLinkHtml;\n",
              "          element.appendChild(docLink);\n",
              "        }\n",
              "      </script>\n",
              "    </div>\n",
              "  </div>\n",
              "  "
            ]
          },
          "metadata": {},
          "execution_count": 159
        }
      ]
    },
    {
      "cell_type": "code",
      "execution_count": 160,
      "outputs": [
        {
          "output_type": "execute_result",
          "data": {
            "text/plain": [
              "            City State    Zip                            Bank BankState  \\\n",
              "0    GLEN BURNIE    MD  21060    BUSINESS FINANCE GROUP, INC.        VA   \n",
              "1      WEST BEND    WI  53095  JPMORGAN CHASE BANK NATL ASSOC        IL   \n",
              "2      SAN DIEGO    CA  92128                     UMPQUA BANK        OR   \n",
              "3        WEBSTER    MA   1570  HOMETOWN BANK A CO-OPERATIVE B        MA   \n",
              "4         JOPLIN    MO  64804  U.S. BANK NATIONAL ASSOCIATION        OH   \n",
              "5        NEWTOWN    OH  45244  HAMILTON CNTY DEVEL COMPANY IN        OH   \n",
              "6  MISSION VIEJO    CA  92691  BANK OF AMERICA CALIFORNIA N.A        CA   \n",
              "7         OSWEGO    IL  60543  JPMORGAN CHASE BANK NATL ASSOC        IL   \n",
              "8        DECATUR    GA  30033     WELLS FARGO BANK NATL ASSOC        SD   \n",
              "9  ROLLING HILLS    CA  90274   BANC OF CALIFORNIA NATL ASSOC        CA   \n",
              "\n",
              "    NAICS  Term  NoEmp  NewExist  CreateJob  RetainedJob  FranchiseCode  \\\n",
              "0  811111   240      7       1.0          6            7              1   \n",
              "1  722410   240     20       1.0          0            0              1   \n",
              "2       0   120      2       1.0          0            0              1   \n",
              "3  621310    84      7       1.0          0            0              1   \n",
              "4       0    60      2       2.0          0            0              1   \n",
              "5  234110   240      5       1.0          2            0              1   \n",
              "6  445310    60      3       1.0          0            0              1   \n",
              "7  812990    57      1       1.0          2            1              0   \n",
              "8  561421    71     10       1.0          1           11              1   \n",
              "9  541512    84      4       1.0          4            4              1   \n",
              "\n",
              "   UrbanRural RevLineCr LowDoc DisbursementGross BalanceGross        GrAppv  \\\n",
              "0           1         0      N      $743,000.00        $0.00   $743,000.00    \n",
              "1           0         N      N      $137,000.00        $0.00   $137,000.00    \n",
              "2           0         0      N      $280,000.00        $0.00   $280,000.00    \n",
              "3           1         0      Y      $144,500.00        $0.00   $144,500.00    \n",
              "4           0         N      Y       $52,500.00        $0.00    $52,500.00    \n",
              "5           0         N      N       $52,000.00        $0.00    $52,000.00    \n",
              "6           0         Y      N       $50,000.00        $0.00    $50,000.00    \n",
              "7           1         Y      N       $38,619.00        $0.00    $25,000.00    \n",
              "8           1         Y      N       $32,714.00        $0.00    $20,000.00    \n",
              "9           1         Y      N       $90,055.00        $0.00    $50,000.00    \n",
              "\n",
              "       SBA_Appv MIS_Status  \n",
              "0  $743,000.00       P I F  \n",
              "1  $109,737.00       P I F  \n",
              "2  $210,000.00       P I F  \n",
              "3  $122,825.00       P I F  \n",
              "4   $42,000.00       P I F  \n",
              "5   $52,000.00       P I F  \n",
              "6   $25,000.00       P I F  \n",
              "7   $12,500.00      CHGOFF  \n",
              "8   $10,000.00      CHGOFF  \n",
              "9   $25,000.00       P I F  "
            ],
            "text/html": [
              "\n",
              "  <div id=\"df-be819edb-e36a-458d-90b0-6f3e3308791b\">\n",
              "    <div class=\"colab-df-container\">\n",
              "      <div>\n",
              "<style scoped>\n",
              "    .dataframe tbody tr th:only-of-type {\n",
              "        vertical-align: middle;\n",
              "    }\n",
              "\n",
              "    .dataframe tbody tr th {\n",
              "        vertical-align: top;\n",
              "    }\n",
              "\n",
              "    .dataframe thead th {\n",
              "        text-align: right;\n",
              "    }\n",
              "</style>\n",
              "<table border=\"1\" class=\"dataframe\">\n",
              "  <thead>\n",
              "    <tr style=\"text-align: right;\">\n",
              "      <th></th>\n",
              "      <th>City</th>\n",
              "      <th>State</th>\n",
              "      <th>Zip</th>\n",
              "      <th>Bank</th>\n",
              "      <th>BankState</th>\n",
              "      <th>NAICS</th>\n",
              "      <th>Term</th>\n",
              "      <th>NoEmp</th>\n",
              "      <th>NewExist</th>\n",
              "      <th>CreateJob</th>\n",
              "      <th>RetainedJob</th>\n",
              "      <th>FranchiseCode</th>\n",
              "      <th>UrbanRural</th>\n",
              "      <th>RevLineCr</th>\n",
              "      <th>LowDoc</th>\n",
              "      <th>DisbursementGross</th>\n",
              "      <th>BalanceGross</th>\n",
              "      <th>GrAppv</th>\n",
              "      <th>SBA_Appv</th>\n",
              "      <th>MIS_Status</th>\n",
              "    </tr>\n",
              "  </thead>\n",
              "  <tbody>\n",
              "    <tr>\n",
              "      <th>0</th>\n",
              "      <td>GLEN BURNIE</td>\n",
              "      <td>MD</td>\n",
              "      <td>21060</td>\n",
              "      <td>BUSINESS FINANCE GROUP, INC.</td>\n",
              "      <td>VA</td>\n",
              "      <td>811111</td>\n",
              "      <td>240</td>\n",
              "      <td>7</td>\n",
              "      <td>1.0</td>\n",
              "      <td>6</td>\n",
              "      <td>7</td>\n",
              "      <td>1</td>\n",
              "      <td>1</td>\n",
              "      <td>0</td>\n",
              "      <td>N</td>\n",
              "      <td>$743,000.00</td>\n",
              "      <td>$0.00</td>\n",
              "      <td>$743,000.00</td>\n",
              "      <td>$743,000.00</td>\n",
              "      <td>P I F</td>\n",
              "    </tr>\n",
              "    <tr>\n",
              "      <th>1</th>\n",
              "      <td>WEST BEND</td>\n",
              "      <td>WI</td>\n",
              "      <td>53095</td>\n",
              "      <td>JPMORGAN CHASE BANK NATL ASSOC</td>\n",
              "      <td>IL</td>\n",
              "      <td>722410</td>\n",
              "      <td>240</td>\n",
              "      <td>20</td>\n",
              "      <td>1.0</td>\n",
              "      <td>0</td>\n",
              "      <td>0</td>\n",
              "      <td>1</td>\n",
              "      <td>0</td>\n",
              "      <td>N</td>\n",
              "      <td>N</td>\n",
              "      <td>$137,000.00</td>\n",
              "      <td>$0.00</td>\n",
              "      <td>$137,000.00</td>\n",
              "      <td>$109,737.00</td>\n",
              "      <td>P I F</td>\n",
              "    </tr>\n",
              "    <tr>\n",
              "      <th>2</th>\n",
              "      <td>SAN DIEGO</td>\n",
              "      <td>CA</td>\n",
              "      <td>92128</td>\n",
              "      <td>UMPQUA BANK</td>\n",
              "      <td>OR</td>\n",
              "      <td>0</td>\n",
              "      <td>120</td>\n",
              "      <td>2</td>\n",
              "      <td>1.0</td>\n",
              "      <td>0</td>\n",
              "      <td>0</td>\n",
              "      <td>1</td>\n",
              "      <td>0</td>\n",
              "      <td>0</td>\n",
              "      <td>N</td>\n",
              "      <td>$280,000.00</td>\n",
              "      <td>$0.00</td>\n",
              "      <td>$280,000.00</td>\n",
              "      <td>$210,000.00</td>\n",
              "      <td>P I F</td>\n",
              "    </tr>\n",
              "    <tr>\n",
              "      <th>3</th>\n",
              "      <td>WEBSTER</td>\n",
              "      <td>MA</td>\n",
              "      <td>1570</td>\n",
              "      <td>HOMETOWN BANK A CO-OPERATIVE B</td>\n",
              "      <td>MA</td>\n",
              "      <td>621310</td>\n",
              "      <td>84</td>\n",
              "      <td>7</td>\n",
              "      <td>1.0</td>\n",
              "      <td>0</td>\n",
              "      <td>0</td>\n",
              "      <td>1</td>\n",
              "      <td>1</td>\n",
              "      <td>0</td>\n",
              "      <td>Y</td>\n",
              "      <td>$144,500.00</td>\n",
              "      <td>$0.00</td>\n",
              "      <td>$144,500.00</td>\n",
              "      <td>$122,825.00</td>\n",
              "      <td>P I F</td>\n",
              "    </tr>\n",
              "    <tr>\n",
              "      <th>4</th>\n",
              "      <td>JOPLIN</td>\n",
              "      <td>MO</td>\n",
              "      <td>64804</td>\n",
              "      <td>U.S. BANK NATIONAL ASSOCIATION</td>\n",
              "      <td>OH</td>\n",
              "      <td>0</td>\n",
              "      <td>60</td>\n",
              "      <td>2</td>\n",
              "      <td>2.0</td>\n",
              "      <td>0</td>\n",
              "      <td>0</td>\n",
              "      <td>1</td>\n",
              "      <td>0</td>\n",
              "      <td>N</td>\n",
              "      <td>Y</td>\n",
              "      <td>$52,500.00</td>\n",
              "      <td>$0.00</td>\n",
              "      <td>$52,500.00</td>\n",
              "      <td>$42,000.00</td>\n",
              "      <td>P I F</td>\n",
              "    </tr>\n",
              "    <tr>\n",
              "      <th>5</th>\n",
              "      <td>NEWTOWN</td>\n",
              "      <td>OH</td>\n",
              "      <td>45244</td>\n",
              "      <td>HAMILTON CNTY DEVEL COMPANY IN</td>\n",
              "      <td>OH</td>\n",
              "      <td>234110</td>\n",
              "      <td>240</td>\n",
              "      <td>5</td>\n",
              "      <td>1.0</td>\n",
              "      <td>2</td>\n",
              "      <td>0</td>\n",
              "      <td>1</td>\n",
              "      <td>0</td>\n",
              "      <td>N</td>\n",
              "      <td>N</td>\n",
              "      <td>$52,000.00</td>\n",
              "      <td>$0.00</td>\n",
              "      <td>$52,000.00</td>\n",
              "      <td>$52,000.00</td>\n",
              "      <td>P I F</td>\n",
              "    </tr>\n",
              "    <tr>\n",
              "      <th>6</th>\n",
              "      <td>MISSION VIEJO</td>\n",
              "      <td>CA</td>\n",
              "      <td>92691</td>\n",
              "      <td>BANK OF AMERICA CALIFORNIA N.A</td>\n",
              "      <td>CA</td>\n",
              "      <td>445310</td>\n",
              "      <td>60</td>\n",
              "      <td>3</td>\n",
              "      <td>1.0</td>\n",
              "      <td>0</td>\n",
              "      <td>0</td>\n",
              "      <td>1</td>\n",
              "      <td>0</td>\n",
              "      <td>Y</td>\n",
              "      <td>N</td>\n",
              "      <td>$50,000.00</td>\n",
              "      <td>$0.00</td>\n",
              "      <td>$50,000.00</td>\n",
              "      <td>$25,000.00</td>\n",
              "      <td>P I F</td>\n",
              "    </tr>\n",
              "    <tr>\n",
              "      <th>7</th>\n",
              "      <td>OSWEGO</td>\n",
              "      <td>IL</td>\n",
              "      <td>60543</td>\n",
              "      <td>JPMORGAN CHASE BANK NATL ASSOC</td>\n",
              "      <td>IL</td>\n",
              "      <td>812990</td>\n",
              "      <td>57</td>\n",
              "      <td>1</td>\n",
              "      <td>1.0</td>\n",
              "      <td>2</td>\n",
              "      <td>1</td>\n",
              "      <td>0</td>\n",
              "      <td>1</td>\n",
              "      <td>Y</td>\n",
              "      <td>N</td>\n",
              "      <td>$38,619.00</td>\n",
              "      <td>$0.00</td>\n",
              "      <td>$25,000.00</td>\n",
              "      <td>$12,500.00</td>\n",
              "      <td>CHGOFF</td>\n",
              "    </tr>\n",
              "    <tr>\n",
              "      <th>8</th>\n",
              "      <td>DECATUR</td>\n",
              "      <td>GA</td>\n",
              "      <td>30033</td>\n",
              "      <td>WELLS FARGO BANK NATL ASSOC</td>\n",
              "      <td>SD</td>\n",
              "      <td>561421</td>\n",
              "      <td>71</td>\n",
              "      <td>10</td>\n",
              "      <td>1.0</td>\n",
              "      <td>1</td>\n",
              "      <td>11</td>\n",
              "      <td>1</td>\n",
              "      <td>1</td>\n",
              "      <td>Y</td>\n",
              "      <td>N</td>\n",
              "      <td>$32,714.00</td>\n",
              "      <td>$0.00</td>\n",
              "      <td>$20,000.00</td>\n",
              "      <td>$10,000.00</td>\n",
              "      <td>CHGOFF</td>\n",
              "    </tr>\n",
              "    <tr>\n",
              "      <th>9</th>\n",
              "      <td>ROLLING HILLS</td>\n",
              "      <td>CA</td>\n",
              "      <td>90274</td>\n",
              "      <td>BANC OF CALIFORNIA NATL ASSOC</td>\n",
              "      <td>CA</td>\n",
              "      <td>541512</td>\n",
              "      <td>84</td>\n",
              "      <td>4</td>\n",
              "      <td>1.0</td>\n",
              "      <td>4</td>\n",
              "      <td>4</td>\n",
              "      <td>1</td>\n",
              "      <td>1</td>\n",
              "      <td>Y</td>\n",
              "      <td>N</td>\n",
              "      <td>$90,055.00</td>\n",
              "      <td>$0.00</td>\n",
              "      <td>$50,000.00</td>\n",
              "      <td>$25,000.00</td>\n",
              "      <td>P I F</td>\n",
              "    </tr>\n",
              "  </tbody>\n",
              "</table>\n",
              "</div>\n",
              "      <button class=\"colab-df-convert\" onclick=\"convertToInteractive('df-be819edb-e36a-458d-90b0-6f3e3308791b')\"\n",
              "              title=\"Convert this dataframe to an interactive table.\"\n",
              "              style=\"display:none;\">\n",
              "        \n",
              "  <svg xmlns=\"http://www.w3.org/2000/svg\" height=\"24px\"viewBox=\"0 0 24 24\"\n",
              "       width=\"24px\">\n",
              "    <path d=\"M0 0h24v24H0V0z\" fill=\"none\"/>\n",
              "    <path d=\"M18.56 5.44l.94 2.06.94-2.06 2.06-.94-2.06-.94-.94-2.06-.94 2.06-2.06.94zm-11 1L8.5 8.5l.94-2.06 2.06-.94-2.06-.94L8.5 2.5l-.94 2.06-2.06.94zm10 10l.94 2.06.94-2.06 2.06-.94-2.06-.94-.94-2.06-.94 2.06-2.06.94z\"/><path d=\"M17.41 7.96l-1.37-1.37c-.4-.4-.92-.59-1.43-.59-.52 0-1.04.2-1.43.59L10.3 9.45l-7.72 7.72c-.78.78-.78 2.05 0 2.83L4 21.41c.39.39.9.59 1.41.59.51 0 1.02-.2 1.41-.59l7.78-7.78 2.81-2.81c.8-.78.8-2.07 0-2.86zM5.41 20L4 18.59l7.72-7.72 1.47 1.35L5.41 20z\"/>\n",
              "  </svg>\n",
              "      </button>\n",
              "      \n",
              "  <style>\n",
              "    .colab-df-container {\n",
              "      display:flex;\n",
              "      flex-wrap:wrap;\n",
              "      gap: 12px;\n",
              "    }\n",
              "\n",
              "    .colab-df-convert {\n",
              "      background-color: #E8F0FE;\n",
              "      border: none;\n",
              "      border-radius: 50%;\n",
              "      cursor: pointer;\n",
              "      display: none;\n",
              "      fill: #1967D2;\n",
              "      height: 32px;\n",
              "      padding: 0 0 0 0;\n",
              "      width: 32px;\n",
              "    }\n",
              "\n",
              "    .colab-df-convert:hover {\n",
              "      background-color: #E2EBFA;\n",
              "      box-shadow: 0px 1px 2px rgba(60, 64, 67, 0.3), 0px 1px 3px 1px rgba(60, 64, 67, 0.15);\n",
              "      fill: #174EA6;\n",
              "    }\n",
              "\n",
              "    [theme=dark] .colab-df-convert {\n",
              "      background-color: #3B4455;\n",
              "      fill: #D2E3FC;\n",
              "    }\n",
              "\n",
              "    [theme=dark] .colab-df-convert:hover {\n",
              "      background-color: #434B5C;\n",
              "      box-shadow: 0px 1px 3px 1px rgba(0, 0, 0, 0.15);\n",
              "      filter: drop-shadow(0px 1px 2px rgba(0, 0, 0, 0.3));\n",
              "      fill: #FFFFFF;\n",
              "    }\n",
              "  </style>\n",
              "\n",
              "      <script>\n",
              "        const buttonEl =\n",
              "          document.querySelector('#df-be819edb-e36a-458d-90b0-6f3e3308791b button.colab-df-convert');\n",
              "        buttonEl.style.display =\n",
              "          google.colab.kernel.accessAllowed ? 'block' : 'none';\n",
              "\n",
              "        async function convertToInteractive(key) {\n",
              "          const element = document.querySelector('#df-be819edb-e36a-458d-90b0-6f3e3308791b');\n",
              "          const dataTable =\n",
              "            await google.colab.kernel.invokeFunction('convertToInteractive',\n",
              "                                                     [key], {});\n",
              "          if (!dataTable) return;\n",
              "\n",
              "          const docLinkHtml = 'Like what you see? Visit the ' +\n",
              "            '<a target=\"_blank\" href=https://colab.research.google.com/notebooks/data_table.ipynb>data table notebook</a>'\n",
              "            + ' to learn more about interactive tables.';\n",
              "          element.innerHTML = '';\n",
              "          dataTable['output_type'] = 'display_data';\n",
              "          await google.colab.output.renderOutput(dataTable, element);\n",
              "          const docLink = document.createElement('div');\n",
              "          docLink.innerHTML = docLinkHtml;\n",
              "          element.appendChild(docLink);\n",
              "        }\n",
              "      </script>\n",
              "    </div>\n",
              "  </div>\n",
              "  "
            ]
          },
          "metadata": {},
          "execution_count": 160
        }
      ],
      "source": [
        "data.head(n=10)"
      ],
      "metadata": {
        "pycharm": {
          "name": "#%%\n"
        },
        "colab": {
          "base_uri": "https://localhost:8080/",
          "height": 774
        },
        "id": "1l7XcmQ6LmQB",
        "outputId": "e8777095-4396-47d2-cb6b-4d71d0b5567b"
      },
      "id": "1l7XcmQ6LmQB"
    },
    {
      "cell_type": "markdown",
      "id": "5fe1af41",
      "metadata": {
        "id": "5fe1af41"
      },
      "source": [
        "## Dataset preparation and clean-up\n",
        "\n",
        "Modify and clean-up the dataset as following:\n",
        "- Replace encode Na/Null values\n",
        "- Convert the strings styled as '$XXXX.XX' to float values. Columns = ['DisbursementGross', 'BalanceGross', 'GrAppv', 'SBA_Appv']\n",
        "- Convert MIS_Status to 0/1. Make value \"CHGOFF\" as 1"
      ]
    },
    {
      "cell_type": "code",
      "execution_count": 161,
      "outputs": [
        {
          "output_type": "execute_result",
          "data": {
            "text/plain": [
              "City                  object\n",
              "State                 object\n",
              "Zip                    int64\n",
              "Bank                  object\n",
              "BankState             object\n",
              "NAICS                  int64\n",
              "Term                   int64\n",
              "NoEmp                  int64\n",
              "NewExist             float64\n",
              "CreateJob              int64\n",
              "RetainedJob            int64\n",
              "FranchiseCode          int64\n",
              "UrbanRural             int64\n",
              "RevLineCr             object\n",
              "LowDoc                object\n",
              "DisbursementGross     object\n",
              "BalanceGross          object\n",
              "GrAppv                object\n",
              "SBA_Appv              object\n",
              "MIS_Status            object\n",
              "dtype: object"
            ]
          },
          "metadata": {},
          "execution_count": 161
        }
      ],
      "source": [
        "# colomn type\n",
        "data.dtypes"
      ],
      "metadata": {
        "pycharm": {
          "name": "#%%\n"
        },
        "colab": {
          "base_uri": "https://localhost:8080/"
        },
        "id": "MaflnPmhLmQD",
        "outputId": "b119ed81-a1eb-432a-e563-caf423bbd1fb"
      },
      "id": "MaflnPmhLmQD"
    },
    {
      "cell_type": "code",
      "source": [
        "data['MIS_Status']=data['MIS_Status'].replace({'CHGOFF':1,'P I F':0}).astype(float)"
      ],
      "metadata": {
        "id": "LFtg5mYMhFAN"
      },
      "id": "LFtg5mYMhFAN",
      "execution_count": 162,
      "outputs": []
    },
    {
      "cell_type": "code",
      "source": [
        "data['DisbursementGross']=data['DisbursementGross'].replace({'\\$':'',',':''},regex=True).astype(float)\n",
        "data['GrAppv']=data['GrAppv'].replace({'\\$':'',',':''},regex=True).astype(float)\n",
        "data['SBA_Appv']=data['SBA_Appv'].replace({'\\$':'',',':''},regex=True).astype(float)"
      ],
      "metadata": {
        "id": "5R3Z6jirh5qC"
      },
      "id": "5R3Z6jirh5qC",
      "execution_count": 163,
      "outputs": []
    },
    {
      "cell_type": "code",
      "source": [
        "data['BalanceGross']=data['BalanceGross'].replace({'\\$':'',',':''},regex=True).astype(float)"
      ],
      "metadata": {
        "id": "IJzJb0N3j5AG"
      },
      "id": "IJzJb0N3j5AG",
      "execution_count": 164,
      "outputs": []
    },
    {
      "cell_type": "code",
      "source": [
        "values_to_fill={}\n",
        "for col in data.drop(columns=['MIS_Status']).columns:\n",
        "  if data[col].dtype=='object':\n",
        "    values_to_fill[col]='Missing'\n",
        "  else:\n",
        "    values_to_fill[col]=0\n",
        "data.fillna(value=values_to_fill,inplace=True)"
      ],
      "metadata": {
        "id": "yeVID5LYkLmx"
      },
      "id": "yeVID5LYkLmx",
      "execution_count": 165,
      "outputs": []
    },
    {
      "cell_type": "code",
      "source": [
        "data.isnull().any()"
      ],
      "metadata": {
        "colab": {
          "base_uri": "https://localhost:8080/"
        },
        "id": "cNnJGzYyk4ty",
        "outputId": "e3b01d26-821a-4fc2-bef7-a3b9b7406e6d"
      },
      "id": "cNnJGzYyk4ty",
      "execution_count": 166,
      "outputs": [
        {
          "output_type": "execute_result",
          "data": {
            "text/plain": [
              "City                 False\n",
              "State                False\n",
              "Zip                  False\n",
              "Bank                 False\n",
              "BankState            False\n",
              "NAICS                False\n",
              "Term                 False\n",
              "NoEmp                False\n",
              "NewExist             False\n",
              "CreateJob            False\n",
              "RetainedJob          False\n",
              "FranchiseCode        False\n",
              "UrbanRural           False\n",
              "RevLineCr            False\n",
              "LowDoc               False\n",
              "DisbursementGross    False\n",
              "BalanceGross         False\n",
              "GrAppv               False\n",
              "SBA_Appv             False\n",
              "MIS_Status            True\n",
              "dtype: bool"
            ]
          },
          "metadata": {},
          "execution_count": 166
        }
      ]
    },
    {
      "cell_type": "code",
      "source": [
        "data.isnull().sum()"
      ],
      "metadata": {
        "colab": {
          "base_uri": "https://localhost:8080/"
        },
        "id": "mNrv_MnRlf7-",
        "outputId": "44c46b43-d54a-490f-c50c-61d3dd614261"
      },
      "id": "mNrv_MnRlf7-",
      "execution_count": 167,
      "outputs": [
        {
          "output_type": "execute_result",
          "data": {
            "text/plain": [
              "City                    0\n",
              "State                   0\n",
              "Zip                     0\n",
              "Bank                    0\n",
              "BankState               0\n",
              "NAICS                   0\n",
              "Term                    0\n",
              "NoEmp                   0\n",
              "NewExist                0\n",
              "CreateJob               0\n",
              "RetainedJob             0\n",
              "FranchiseCode           0\n",
              "UrbanRural              0\n",
              "RevLineCr               0\n",
              "LowDoc                  0\n",
              "DisbursementGross       0\n",
              "BalanceGross            0\n",
              "GrAppv                  0\n",
              "SBA_Appv                0\n",
              "MIS_Status           1822\n",
              "dtype: int64"
            ]
          },
          "metadata": {},
          "execution_count": 167
        }
      ]
    },
    {
      "cell_type": "code",
      "source": [
        "#only target column has null values and this data has use for us so will drop rows where target column has null values\n",
        "data.dropna(inplace=True)"
      ],
      "metadata": {
        "id": "0WhmE6oAlMwa"
      },
      "id": "0WhmE6oAlMwa",
      "execution_count": 168,
      "outputs": []
    },
    {
      "cell_type": "code",
      "execution_count": 169,
      "outputs": [
        {
          "output_type": "execute_result",
          "data": {
            "text/plain": [
              "0"
            ]
          },
          "metadata": {},
          "execution_count": 169
        }
      ],
      "source": [
        "# list columns with missing values\n",
        "sum(data.isnull().any())"
      ],
      "metadata": {
        "pycharm": {
          "name": "#%%\n"
        },
        "colab": {
          "base_uri": "https://localhost:8080/"
        },
        "id": "rpYg_cLWLmQF",
        "outputId": "25250aba-2d5a-433b-cbcf-5693ae7d1753"
      },
      "id": "rpYg_cLWLmQF"
    },
    {
      "cell_type": "code",
      "execution_count": 170,
      "outputs": [],
      "source": [
        "# wheather the bank and customer are in the same state\n",
        "data['bank_customer_state']=np.where(data['BankState']==data['State'],1,0)\n",
        "# The difference between approved bank loan amount and sba secured loan amount \n",
        "data['non_secured_loan'] = data['DisbursementGross'] - data['SBA_Appv']"
      ],
      "metadata": {
        "pycharm": {
          "name": "#%%\n"
        },
        "id": "jg4INhB-LmQG"
      },
      "id": "jg4INhB-LmQG"
    },
    {
      "cell_type": "markdown",
      "source": [
        "I want to check \n",
        "1)the distribution of non secured loan amount in defaulted and non defaulted loans"
      ],
      "metadata": {
        "id": "vvOQDohp0y4J"
      },
      "id": "vvOQDohp0y4J"
    },
    {
      "cell_type": "code",
      "source": [
        "import seaborn as sns\n",
        "sns.boxplot(x=\"MIS_Status\",y=\"non_secured_loan\",data=data)\n",
        "#defaulted loan and non defaulted laon has same type same mean and quartiles they just differ in outlier"
      ],
      "metadata": {
        "colab": {
          "base_uri": "https://localhost:8080/",
          "height": 545
        },
        "id": "LOo34QO41vL6",
        "outputId": "963b89ff-d0a0-4dca-e7eb-2870165c22b9"
      },
      "id": "LOo34QO41vL6",
      "execution_count": 171,
      "outputs": [
        {
          "output_type": "execute_result",
          "data": {
            "text/plain": [
              "<matplotlib.axes._subplots.AxesSubplot at 0x7f9fe71c6d30>"
            ]
          },
          "metadata": {},
          "execution_count": 171
        },
        {
          "output_type": "display_data",
          "data": {
            "text/plain": [
              "<Figure size 842.4x595.44 with 1 Axes>"
            ],
            "image/png": "[encoded data removed]"
          },
          "metadata": {}
        }
      ]
    },
    {
      "cell_type": "code",
      "source": [
        "data.groupby(\"MIS_Status\")['MIS_Status'].count()"
      ],
      "metadata": {
        "id": "WgUUAqVM3piB",
        "colab": {
          "base_uri": "https://localhost:8080/"
        },
        "outputId": "18cf4dc8-311b-47b9-f72b-a85774c233f5"
      },
      "id": "WgUUAqVM3piB",
      "execution_count": 172,
      "outputs": [
        {
          "output_type": "execute_result",
          "data": {
            "text/plain": [
              "MIS_Status\n",
              "0.0    665576\n",
              "1.0    141849\n",
              "Name: MIS_Status, dtype: int64"
            ]
          },
          "metadata": {},
          "execution_count": 172
        }
      ]
    },
    {
      "cell_type": "code",
      "source": [
        "print(data.groupby(\"MIS_Status\")[\"MIS_Status\"].count()*100/data[\"MIS_Status\"].count())"
      ],
      "metadata": {
        "colab": {
          "base_uri": "https://localhost:8080/"
        },
        "id": "R6YAdgojXQI8",
        "outputId": "4d88fd62-c4ed-444f-c9cf-199ae41125d7"
      },
      "id": "R6YAdgojXQI8",
      "execution_count": 173,
      "outputs": [
        {
          "output_type": "stream",
          "name": "stdout",
          "text": [
            "MIS_Status\n",
            "0.0    82.431929\n",
            "1.0    17.568071\n",
            "Name: MIS_Status, dtype: float64\n"
          ]
        }
      ]
    },
    {
      "cell_type": "code",
      "source": [
        "#defaulters in lowdoc\n",
        "print(data.LowDoc.unique())\n",
        "n = pd.unique(data['LowDoc'])\n",
        "d=dict()\n",
        "for i in data.LowDoc:\n",
        "  if i in d.keys():\n",
        "    d[i]+=1\n",
        "  else:\n",
        "    d[i]=1\n",
        "print\n",
        "print(d)\n",
        "for i in d.keys():\n",
        "  d[i]=d[i]*100/(data.shape[0])\n",
        "print(d)\n",
        "#Majority of loan applications has 'Y' or 'N' category other variables are very less in number can be entering error or very few special application cases"
      ],
      "metadata": {
        "colab": {
          "base_uri": "https://localhost:8080/"
        },
        "id": "PjRWgFc5ZuR5",
        "outputId": "63ba9105-87ec-41b5-eea8-48355df4ec18"
      },
      "id": "PjRWgFc5ZuR5",
      "execution_count": 174,
      "outputs": [
        {
          "output_type": "stream",
          "name": "stdout",
          "text": [
            "['N' 'Y' 'A' 'Missing' 'R' '0' 'S' 'C' '1']\n",
            "{'N': 702853, 'Y': 99186, 'A': 447, 'Missing': 2315, 'R': 65, '0': 1343, 'S': 534, 'C': 681, '1': 1}\n",
            "{'N': 87.04870421401368, 'Y': 12.284236926030282, 'A': 0.055361179056878346, 'Missing': 0.28671393627891134, 'R': 0.008050283308047187, '0': 0.16633123819549803, 'S': 0.06613617363841844, 'C': 0.08434219896584823, '1': 0.0001238505124314952}\n"
          ]
        }
      ]
    },
    {
      "cell_type": "markdown",
      "source": [
        "I want to check if my default rate more in lowdoc applications and how the loan amount of defaulted cases vary in lowdoc and non lowdoc applications"
      ],
      "metadata": {
        "id": "apGzBwbsChTT"
      },
      "id": "apGzBwbsChTT"
    },
    {
      "cell_type": "code",
      "source": [
        "df_lowdoc=data[data['LowDoc']=='Y']\n",
        "df_lowdoc_d=df_lowdoc[df_lowdoc['MIS_Status']==1]\n",
        "df_lowdoc_Nd=df_lowdoc[df_lowdoc['MIS_Status']==0]\n",
        "print(f'percentage of defauled cases in low doc applications {df_lowdoc_d.shape[0]*100/df_lowdoc.shape[0]}')\n",
        "print(f'No of defaulted cases in lowdoc cases {df_lowdoc_d.shape[0]}')\n",
        "print(f'percentage of non defauled cases in low doc applications {df_lowdoc_Nd.shape[0]*100/df_lowdoc.shape[0]}')\n",
        "print(f'no of non defauled cases in low doc applications {df_lowdoc_Nd.shape[0]}')"
      ],
      "metadata": {
        "colab": {
          "base_uri": "https://localhost:8080/"
        },
        "id": "YHksNpaO7YZE",
        "outputId": "e084f26c-2c0e-49ed-d9b7-6be95da86320"
      },
      "id": "YHksNpaO7YZE",
      "execution_count": 175,
      "outputs": [
        {
          "output_type": "stream",
          "name": "stdout",
          "text": [
            "percentage of defauled cases in low doc applications 9.051680680741233\n",
            "No of defaulted cases in lowdoc cases 8978\n",
            "percentage of non defauled cases in low doc applications 90.94831931925877\n",
            "no of non defauled cases in low doc applications 90208\n"
          ]
        }
      ]
    },
    {
      "cell_type": "code",
      "source": [
        "df_lowdoc=data[data['LowDoc']=='N']\n",
        "df_lowdoc_d=df_lowdoc[df_lowdoc['MIS_Status']==1]\n",
        "df_lowdoc_Nd=df_lowdoc[df_lowdoc['MIS_Status']==0]\n",
        "print(f'percentage of defauled cases in non low doc applications {df_lowdoc_d.shape[0]*100/df_lowdoc.shape[0]}')\n",
        "print(f'number of defauled cases in non low doc applications {df_lowdoc_d.shape[0]}')\n",
        "print(f'percentage of non defauled cases in non low doc applications {df_lowdoc_Nd.shape[0]*100/df_lowdoc.shape[0]}')\n",
        "print(f'non of defauled cases in non low doc applications {df_lowdoc_Nd.shape[0]}')\n",
        "#Non low doc applications have higher percentage of defaulted cases"
      ],
      "metadata": {
        "colab": {
          "base_uri": "https://localhost:8080/"
        },
        "id": "ZJ0DogR5-9Qi",
        "outputId": "60784ff7-7e39-4324-cb9c-aa647f508b36"
      },
      "id": "ZJ0DogR5-9Qi",
      "execution_count": 176,
      "outputs": [
        {
          "output_type": "stream",
          "name": "stdout",
          "text": [
            "percentage of defauled cases in non low doc applications 18.702772841547237\n",
            "number of defauled cases in non low doc applications 131453\n",
            "percentage of non defauled cases in non low doc applications 81.29722715845276\n",
            "non of defauled cases in non low doc applications 571400\n"
          ]
        }
      ]
    },
    {
      "cell_type": "markdown",
      "source": [
        "Now I want to check the average sba sanctioned loan in lowdoc and non lowdoc laons and then in defaulted and non defaulted cases\n",
        "I will also check if that difference is statistically significant"
      ],
      "metadata": {
        "id": "bN_eBx3fU7ov"
      },
      "id": "bN_eBx3fU7ov"
    },
    {
      "cell_type": "code",
      "source": [
        "data1=data[(data['LowDoc']=='Y') | (data['LowDoc']=='N')]\n",
        "df1=data1.groupby(['LowDoc'])['SBA_Appv'].mean()\n",
        "df1=df1.reset_index()\n",
        "sns.barplot(x='LowDoc',y='SBA_Appv',data=df1)\n",
        "#we see that average loan amount that was approved in lowdoc is much less than that was approved with all documents"
      ],
      "metadata": {
        "colab": {
          "base_uri": "https://localhost:8080/",
          "height": 534
        },
        "id": "UC9urix0F1WC",
        "outputId": "8743f975-2060-49f5-8a9a-17075dd42593"
      },
      "id": "UC9urix0F1WC",
      "execution_count": 177,
      "outputs": [
        {
          "output_type": "execute_result",
          "data": {
            "text/plain": [
              "<matplotlib.axes._subplots.AxesSubplot at 0x7f9ffda8b8e0>"
            ]
          },
          "metadata": {},
          "execution_count": 177
        },
        {
          "output_type": "display_data",
          "data": {
            "text/plain": [
              "<Figure size 842.4x595.44 with 1 Axes>"
            ],
            "image/png": "[encoded data removed]"
          },
          "metadata": {}
        }
      ]
    },
    {
      "cell_type": "code",
      "source": [
        "data2=data1.groupby(['LowDoc','MIS_Status'])['SBA_Appv'].mean()\n",
        "data2=data2.reset_index()\n",
        "sns.barplot(x='LowDoc',y='SBA_Appv',hue='MIS_Status',data=data2)\n",
        "#this mean amount is same in low doc application but differ greatly in non low doc applications"
      ],
      "metadata": {
        "colab": {
          "base_uri": "https://localhost:8080/",
          "height": 534
        },
        "id": "CpVlqFZLW5sO",
        "outputId": "958ff4af-5a81-4eed-9dbb-a9599ec73f26"
      },
      "id": "CpVlqFZLW5sO",
      "execution_count": 178,
      "outputs": [
        {
          "output_type": "execute_result",
          "data": {
            "text/plain": [
              "<matplotlib.axes._subplots.AxesSubplot at 0x7f9fbccde880>"
            ]
          },
          "metadata": {},
          "execution_count": 178
        },
        {
          "output_type": "display_data",
          "data": {
            "text/plain": [
              "<Figure size 842.4x595.44 with 1 Axes>"
            ],
            "image/png": "[encoded data removed]"
          },
          "metadata": {}
        }
      ]
    },
    {
      "cell_type": "markdown",
      "source": [
        "Now I want to check if is difference is statiscally significant"
      ],
      "metadata": {
        "id": "0ZmlfvplX2up"
      },
      "id": "0ZmlfvplX2up"
    },
    {
      "cell_type": "code",
      "source": [
        "print(np.var(data1[data1['LowDoc']=='N']['SBA_Appv'])/np.var(data1[data1['LowDoc']=='Y']['SBA_Appv']))\n",
        "#unequal variance"
      ],
      "metadata": {
        "colab": {
          "base_uri": "https://localhost:8080/"
        },
        "id": "xMGYF65757WD",
        "outputId": "1e36f572-d6db-46f8-eb4a-97e47ea82ca3"
      },
      "id": "xMGYF65757WD",
      "execution_count": 179,
      "outputs": [
        {
          "output_type": "stream",
          "name": "stdout",
          "text": [
            "59.686564267740444\n"
          ]
        }
      ]
    },
    {
      "cell_type": "code",
      "source": [
        "from scipy.stats import ttest_ind\n",
        "ttest_ind(data1[data1['LowDoc']=='Y']['SBA_Appv'],data1[data1['LowDoc']=='N']['SBA_Appv'],equal_var=False)\n",
        "#it is statistically different"
      ],
      "metadata": {
        "id": "fuGHsfc_YJMH",
        "colab": {
          "base_uri": "https://localhost:8080/"
        },
        "outputId": "8c6f9615-c2ab-4969-d987-d08dcff88554"
      },
      "id": "fuGHsfc_YJMH",
      "execution_count": 180,
      "outputs": [
        {
          "output_type": "execute_result",
          "data": {
            "text/plain": [
              "Ttest_indResult(statistic=-347.5385182601668, pvalue=0.0)"
            ]
          },
          "metadata": {},
          "execution_count": 180
        }
      ]
    },
    {
      "cell_type": "code",
      "source": [
        "data2=data1[data1['LowDoc']=='N']\n",
        "print(np.var(data2[data2['MIS_Status']==0]['SBA_Appv'])/np.var(data2[data2['MIS_Status']==1]['SBA_Appv']))"
      ],
      "metadata": {
        "colab": {
          "base_uri": "https://localhost:8080/"
        },
        "id": "PV2TXcs47KGD",
        "outputId": "5f831840-4885-4dec-a1ce-c87ec64092d4"
      },
      "id": "PV2TXcs47KGD",
      "execution_count": 181,
      "outputs": [
        {
          "output_type": "stream",
          "name": "stdout",
          "text": [
            "2.4454706688951515\n"
          ]
        }
      ]
    },
    {
      "cell_type": "code",
      "source": [
        "ttest_ind(data2[data2['MIS_Status']==0]['SBA_Appv'],data2[data2['MIS_Status']==1]['SBA_Appv'],alternative='greater')\n",
        "#they are statistically significant"
      ],
      "metadata": {
        "colab": {
          "base_uri": "https://localhost:8080/"
        },
        "id": "fz6QHOnj8Adz",
        "outputId": "ff4a60ce-6aa1-4e02-85eb-b97c456f9ce8"
      },
      "id": "fz6QHOnj8Adz",
      "execution_count": 182,
      "outputs": [
        {
          "output_type": "execute_result",
          "data": {
            "text/plain": [
              "Ttest_indResult(statistic=130.26085446668372, pvalue=0.0)"
            ]
          },
          "metadata": {},
          "execution_count": 182
        }
      ]
    },
    {
      "cell_type": "code",
      "source": [
        "data5=data2.groupby(['MIS_Status','NewExist'])['SBA_Appv'].mean()\n",
        "data5=data5.reset_index()\n",
        "sns.barplot(x='MIS_Status',y='SBA_Appv',hue='NewExist',data=data5)\n",
        "#average loan amount is almost same for both existing and non existing in both default and non default"
      ],
      "metadata": {
        "colab": {
          "base_uri": "https://localhost:8080/",
          "height": 534
        },
        "id": "Fc9cbEGOCdgY",
        "outputId": "1eb28664-be23-45a8-a65a-2525712898e9"
      },
      "id": "Fc9cbEGOCdgY",
      "execution_count": 183,
      "outputs": [
        {
          "output_type": "execute_result",
          "data": {
            "text/plain": [
              "<matplotlib.axes._subplots.AxesSubplot at 0x7f9fbccdc1c0>"
            ]
          },
          "metadata": {},
          "execution_count": 183
        },
        {
          "output_type": "display_data",
          "data": {
            "text/plain": [
              "<Figure size 842.4x595.44 with 1 Axes>"
            ],
            "image/png": "[encoded data removed]"
          },
          "metadata": {}
        }
      ]
    },
    {
      "cell_type": "code",
      "source": [
        "data5=data2.groupby(['MIS_Status','NewExist'])['SBA_Appv'].count()\n",
        "data5=data5.reset_index()\n",
        "sns.barplot(x='MIS_Status',y='SBA_Appv',hue='NewExist',data=data5)\n",
        "# In both categories more no of applications are for new firms"
      ],
      "metadata": {
        "colab": {
          "base_uri": "https://localhost:8080/",
          "height": 534
        },
        "id": "yOwQ41AkCwyC",
        "outputId": "90d910d1-e7b9-4409-9994-feb05cc54082"
      },
      "id": "yOwQ41AkCwyC",
      "execution_count": 184,
      "outputs": [
        {
          "output_type": "execute_result",
          "data": {
            "text/plain": [
              "<matplotlib.axes._subplots.AxesSubplot at 0x7f9fb8a3fe50>"
            ]
          },
          "metadata": {},
          "execution_count": 184
        },
        {
          "output_type": "display_data",
          "data": {
            "text/plain": [
              "<Figure size 842.4x595.44 with 1 Axes>"
            ],
            "image/png": "[encoded data removed]"
          },
          "metadata": {}
        }
      ]
    },
    {
      "cell_type": "code",
      "source": [
        "data3=data1[data1['LowDoc']=='Y']\n",
        "print(np.var(data3[data3['MIS_Status']==1]['SBA_Appv'])/np.var(data3[data3['MIS_Status']==0]['SBA_Appv']))"
      ],
      "metadata": {
        "colab": {
          "base_uri": "https://localhost:8080/"
        },
        "id": "mb486fiV8YLo",
        "outputId": "d5ff36db-7cf1-4390-a296-8ee6d57e678d"
      },
      "id": "mb486fiV8YLo",
      "execution_count": 185,
      "outputs": [
        {
          "output_type": "stream",
          "name": "stdout",
          "text": [
            "1.1710180058583648\n"
          ]
        }
      ]
    },
    {
      "cell_type": "code",
      "source": [
        "data.NewExist.unique()\n",
        "#here 0 represent missing value"
      ],
      "metadata": {
        "colab": {
          "base_uri": "https://localhost:8080/"
        },
        "id": "2Bu3i_Ra98-B",
        "outputId": "a8bfa345-efe9-4e26-f2e9-2829aa0f8c62"
      },
      "id": "2Bu3i_Ra98-B",
      "execution_count": 186,
      "outputs": [
        {
          "output_type": "execute_result",
          "data": {
            "text/plain": [
              "array([1., 2., 0.])"
            ]
          },
          "metadata": {},
          "execution_count": 186
        }
      ]
    },
    {
      "cell_type": "code",
      "source": [
        "data4=data3.groupby(['MIS_Status','NewExist'])['SBA_Appv'].mean()\n",
        "data4=data4.reset_index()\n",
        "sns.barplot(x='MIS_Status',y='SBA_Appv',hue='NewExist',data=data4)\n",
        "#No difference in average loan I want to see count of numbers"
      ],
      "metadata": {
        "colab": {
          "base_uri": "https://localhost:8080/",
          "height": 534
        },
        "id": "KGTp2Alp90dC",
        "outputId": "d138f3ed-7a39-4f05-e9c4-16d9c8b95576"
      },
      "id": "KGTp2Alp90dC",
      "execution_count": 187,
      "outputs": [
        {
          "output_type": "execute_result",
          "data": {
            "text/plain": [
              "<matplotlib.axes._subplots.AxesSubplot at 0x7f9fedbeb1f0>"
            ]
          },
          "metadata": {},
          "execution_count": 187
        },
        {
          "output_type": "display_data",
          "data": {
            "text/plain": [
              "<Figure size 842.4x595.44 with 1 Axes>"
            ],
            "image/png": "[encoded data removed]"
          },
          "metadata": {}
        }
      ]
    },
    {
      "cell_type": "code",
      "source": [
        "data4=data3.groupby(['MIS_Status','NewExist'])['SBA_Appv'].count()\n",
        "data4=data4.reset_index()\n",
        "sns.barplot(x='MIS_Status',y='SBA_Appv',hue='NewExist',data=data4)\n",
        "#count is also same so we cannot decide on basis if the new or not for lowdoc application"
      ],
      "metadata": {
        "colab": {
          "base_uri": "https://localhost:8080/",
          "height": 534
        },
        "id": "5gvdg1b_CLBO",
        "outputId": "e03ce53a-91af-4e47-8377-0bf288b5c24e"
      },
      "id": "5gvdg1b_CLBO",
      "execution_count": 188,
      "outputs": [
        {
          "output_type": "execute_result",
          "data": {
            "text/plain": [
              "<matplotlib.axes._subplots.AxesSubplot at 0x7f9fba09cc40>"
            ]
          },
          "metadata": {},
          "execution_count": 188
        },
        {
          "output_type": "display_data",
          "data": {
            "text/plain": [
              "<Figure size 842.4x595.44 with 1 Axes>"
            ],
            "image/png": "[encoded data removed]"
          },
          "metadata": {}
        }
      ]
    },
    {
      "cell_type": "code",
      "source": [
        "ttest_ind(data3[data3['MIS_Status']==0]['SBA_Appv'],data3[data3['MIS_Status']==1]['SBA_Appv'],alternative='less')\n",
        "#so non defaulter mean loan amount is less in lowdoc loan"
      ],
      "metadata": {
        "colab": {
          "base_uri": "https://localhost:8080/"
        },
        "id": "RBKR5Mqe8iZZ",
        "outputId": "270d8cf5-1c5d-4de3-de51-557e919dbbcc"
      },
      "id": "RBKR5Mqe8iZZ",
      "execution_count": 189,
      "outputs": [
        {
          "output_type": "execute_result",
          "data": {
            "text/plain": [
              "Ttest_indResult(statistic=-29.17476604218757, pvalue=1.2509833149854287e-186)"
            ]
          },
          "metadata": {},
          "execution_count": 189
        }
      ]
    },
    {
      "cell_type": "code",
      "source": [
        "sns.countplot(data1['LowDoc'])\n",
        "# majority of loan application were in non lowdoc cate"
      ],
      "metadata": {
        "colab": {
          "base_uri": "https://localhost:8080/",
          "height": 534
        },
        "id": "2MC-iK6UMEo9",
        "outputId": "16c25caf-bf62-4126-f65b-da6139871fef"
      },
      "id": "2MC-iK6UMEo9",
      "execution_count": 190,
      "outputs": [
        {
          "output_type": "execute_result",
          "data": {
            "text/plain": [
              "<matplotlib.axes._subplots.AxesSubplot at 0x7f9fb8b70df0>"
            ]
          },
          "metadata": {},
          "execution_count": 190
        },
        {
          "output_type": "display_data",
          "data": {
            "text/plain": [
              "<Figure size 842.4x595.44 with 1 Axes>"
            ],
            "image/png": "[encoded data removed]"
          },
          "metadata": {}
        }
      ]
    },
    {
      "cell_type": "code",
      "source": [
        "data1.isna().sum()"
      ],
      "metadata": {
        "colab": {
          "base_uri": "https://localhost:8080/"
        },
        "id": "9DXWvDfVMwSg",
        "outputId": "2a246bd1-ba8d-46ef-b216-cbdcd8c88994"
      },
      "id": "9DXWvDfVMwSg",
      "execution_count": 191,
      "outputs": [
        {
          "output_type": "execute_result",
          "data": {
            "text/plain": [
              "City                   0\n",
              "State                  0\n",
              "Zip                    0\n",
              "Bank                   0\n",
              "BankState              0\n",
              "NAICS                  0\n",
              "Term                   0\n",
              "NoEmp                  0\n",
              "NewExist               0\n",
              "CreateJob              0\n",
              "RetainedJob            0\n",
              "FranchiseCode          0\n",
              "UrbanRural             0\n",
              "RevLineCr              0\n",
              "LowDoc                 0\n",
              "DisbursementGross      0\n",
              "BalanceGross           0\n",
              "GrAppv                 0\n",
              "SBA_Appv               0\n",
              "MIS_Status             0\n",
              "bank_customer_state    0\n",
              "non_secured_loan       0\n",
              "dtype: int64"
            ]
          },
          "metadata": {},
          "execution_count": 191
        }
      ]
    },
    {
      "cell_type": "code",
      "source": [
        "import statsmodels.api as sm\n",
        "from scipy.stats import norm\n",
        "import pylab\n",
        "sns.set(rc={'figure.figsize':(11.7,8.27)})\n",
        "sns.histplot(data=data1[data1['LowDoc']=='Y'],x=np.log(data1[data1['LowDoc']=='Y'].SBA_Appv))"
      ],
      "metadata": {
        "colab": {
          "base_uri": "https://localhost:8080/",
          "height": 534
        },
        "id": "qa9DioveJPoQ",
        "outputId": "c4f8fa22-fe43-4ece-d85f-8a0c840fb0e3"
      },
      "id": "qa9DioveJPoQ",
      "execution_count": 192,
      "outputs": [
        {
          "output_type": "execute_result",
          "data": {
            "text/plain": [
              "<matplotlib.axes._subplots.AxesSubplot at 0x7f9fb7a18fa0>"
            ]
          },
          "metadata": {},
          "execution_count": 192
        },
        {
          "output_type": "display_data",
          "data": {
            "text/plain": [
              "<Figure size 842.4x595.44 with 1 Axes>"
            ],
            "image/png": "[encoded data removed]"
          },
          "metadata": {}
        }
      ]
    },
    {
      "cell_type": "code",
      "source": [
        "sns.histplot(data=data1[data1['LowDoc']=='N'],x=np.log(data1[data1['LowDoc']=='N'].GrAppv))"
      ],
      "metadata": {
        "colab": {
          "base_uri": "https://localhost:8080/",
          "height": 534
        },
        "id": "qwTpPlToKoT_",
        "outputId": "adb64337-19c2-4902-a59c-42dcf5da3f02"
      },
      "id": "qwTpPlToKoT_",
      "execution_count": 193,
      "outputs": [
        {
          "output_type": "execute_result",
          "data": {
            "text/plain": [
              "<matplotlib.axes._subplots.AxesSubplot at 0x7f9feb98a850>"
            ]
          },
          "metadata": {},
          "execution_count": 193
        },
        {
          "output_type": "display_data",
          "data": {
            "text/plain": [
              "<Figure size 842.4x595.44 with 1 Axes>"
            ],
            "image/png": "[encoded data removed]"
          },
          "metadata": {}
        }
      ]
    },
    {
      "cell_type": "code",
      "source": [
        "df1=data1.groupby(['MIS_Status','LowDoc'])['SBA_Appv'].mean()\n",
        "df1=df1.reset_index()\n",
        "sns.barplot(x='LowDoc',y='SBA_Appv',hue='MIS_Status',data=df1)"
      ],
      "metadata": {
        "colab": {
          "base_uri": "https://localhost:8080/",
          "height": 534
        },
        "id": "Y_iC2iBnFPPz",
        "outputId": "1b9b0bd4-bc83-4add-f4e8-30203d18fdc1"
      },
      "id": "Y_iC2iBnFPPz",
      "execution_count": 194,
      "outputs": [
        {
          "output_type": "execute_result",
          "data": {
            "text/plain": [
              "<matplotlib.axes._subplots.AxesSubplot at 0x7f9feb8b2940>"
            ]
          },
          "metadata": {},
          "execution_count": 194
        },
        {
          "output_type": "display_data",
          "data": {
            "text/plain": [
              "<Figure size 842.4x595.44 with 1 Axes>"
            ],
            "image/png": "[encoded data removed]"
          },
          "metadata": {}
        }
      ]
    },
    {
      "cell_type": "code",
      "execution_count": 195,
      "outputs": [],
      "source": [
        "from sklearn.model_selection import train_test_split\n",
        "train, test = train_test_split(data, test_size=0.3, random_state=42)"
      ],
      "metadata": {
        "pycharm": {
          "name": "#%%\n"
        },
        "id": "VIFp8LIJLmQH"
      },
      "id": "VIFp8LIJLmQH"
    },
    {
      "cell_type": "code",
      "execution_count": 196,
      "outputs": [
        {
          "output_type": "execute_result",
          "data": {
            "text/plain": [
              "((565197, 22), (242228, 22))"
            ]
          },
          "metadata": {},
          "execution_count": 196
        }
      ],
      "source": [
        "train.shape , test.shape"
      ],
      "metadata": {
        "pycharm": {
          "name": "#%%\n"
        },
        "id": "5dfvbTRBLmQH",
        "colab": {
          "base_uri": "https://localhost:8080/"
        },
        "outputId": "ffeca06c-0149-4d0f-9d0b-1b9b26f8ab3a"
      },
      "id": "5dfvbTRBLmQH"
    },
    {
      "cell_type": "markdown",
      "source": [
        "## Categorical variables encoding"
      ],
      "metadata": {
        "collapsed": false,
        "pycharm": {
          "name": "#%% md\n"
        },
        "id": "hC2rrhhwLmQL"
      },
      "id": "hC2rrhhwLmQL"
    },
    {
      "cell_type": "code",
      "execution_count": 229,
      "outputs": [],
      "source": [
        "X_tr = train.drop(columns='MIS_Status')\n",
        "y_tr = train['MIS_Status']\n",
        "X_ts = test.drop(columns='MIS_Status')\n",
        "y_ts = test['MIS_Status']"
      ],
      "metadata": {
        "pycharm": {
          "name": "#%%\n"
        },
        "id": "KlfR_CPxLmQL"
      },
      "id": "KlfR_CPxLmQL"
    },
    {
      "cell_type": "code",
      "source": [
        "pip install category_encoders"
      ],
      "metadata": {
        "colab": {
          "base_uri": "https://localhost:8080/"
        },
        "id": "WBy6XkvlE7kl",
        "outputId": "0f9f92eb-b45d-405e-ab09-6d91f210abd0"
      },
      "id": "WBy6XkvlE7kl",
      "execution_count": 198,
      "outputs": [
        {
          "output_type": "stream",
          "name": "stdout",
          "text": [
            "Looking in indexes: https://pypi.org/simple, https://us-python.pkg.dev/colab-wheels/public/simple/\n",
            "Requirement already satisfied: category_encoders in /usr/local/lib/python3.8/dist-packages (2.6.0)\n",
            "Requirement already satisfied: statsmodels>=0.9.0 in /usr/local/lib/python3.8/dist-packages (from category_encoders) (0.12.2)\n",
            "Requirement already satisfied: pandas>=1.0.5 in /usr/local/lib/python3.8/dist-packages (from category_encoders) (1.3.5)\n",
            "Requirement already satisfied: scikit-learn>=0.20.0 in /usr/local/lib/python3.8/dist-packages (from category_encoders) (1.0.2)\n",
            "Requirement already satisfied: scipy>=1.0.0 in /usr/local/lib/python3.8/dist-packages (from category_encoders) (1.7.3)\n",
            "Requirement already satisfied: patsy>=0.5.1 in /usr/local/lib/python3.8/dist-packages (from category_encoders) (0.5.3)\n",
            "Requirement already satisfied: numpy>=1.14.0 in /usr/local/lib/python3.8/dist-packages (from category_encoders) (1.21.6)\n",
            "Requirement already satisfied: pytz>=2017.3 in /usr/local/lib/python3.8/dist-packages (from pandas>=1.0.5->category_encoders) (2022.7.1)\n",
            "Requirement already satisfied: python-dateutil>=2.7.3 in /usr/local/lib/python3.8/dist-packages (from pandas>=1.0.5->category_encoders) (2.8.2)\n",
            "Requirement already satisfied: six in /usr/local/lib/python3.8/dist-packages (from patsy>=0.5.1->category_encoders) (1.15.0)\n",
            "Requirement already satisfied: joblib>=0.11 in /usr/local/lib/python3.8/dist-packages (from scikit-learn>=0.20.0->category_encoders) (1.2.0)\n",
            "Requirement already satisfied: threadpoolctl>=2.0.0 in /usr/local/lib/python3.8/dist-packages (from scikit-learn>=0.20.0->category_encoders) (3.1.0)\n"
          ]
        }
      ]
    },
    {
      "cell_type": "code",
      "execution_count": 231,
      "outputs": [
        {
          "output_type": "stream",
          "name": "stdout",
          "text": [
            "Target Encoding of  City\n",
            "Target Encoding of  State\n",
            "Target Encoding of  Bank\n",
            "Target Encoding of  BankState\n",
            "Target Encoding of  RevLineCr\n",
            "One-hot encoding of  LowDoc\n"
          ]
        }
      ],
      "source": [
        "from sklearn.preprocessing import OneHotEncoder\n",
        "from category_encoders import TargetEncoder\n",
        "from copy import deepcopy\n",
        "\n",
        "'''Save original columns that need to be droped or not used\n",
        "   Save One-hot and Label encoders for future use\n",
        "'''\n",
        "#Columns to drop from ML models\n",
        "cols_to_drop = []\n",
        "#Categorical encoders disctionary\n",
        "cat_encoders = {}\n",
        "#New categorical (encoded) columns\n",
        "cat_enc_columns = []\n",
        "\n",
        "for col in X_tr.columns:\n",
        "  if X_tr[col].dtype == 'object':\n",
        "    if X_tr[col].nunique() < 10:\n",
        "        print(\"One-hot encoding of \", col)\n",
        "        enc = OneHotEncoder( handle_unknown='ignore', sparse=False)\n",
        "        enc.fit(X_tr[[col]])\n",
        "        result = enc.transform(X_tr[[col]])\n",
        "        ohe_columns = [col+\"_\"+str(x) for x in enc.categories_[0]]\n",
        "        cat_enc_columns = cat_enc_columns + ohe_columns\n",
        "        result_train = pd.DataFrame(result, columns=ohe_columns , index=X_train.index)\n",
        "        X_train = pd.concat([X_tr, result_train.reindex(X_train.index)], axis=1 , join='inner')\n",
        "        '''Encode Testing'''\n",
        "        result = enc.transform(X_ts[[col]])\n",
        "        result_test = pd.DataFrame(result, columns=ohe_columns , index=X_test.index)\n",
        "        X_test = pd.concat([X_ts, result_test.reindex(X_ts.index)], axis=1 , join='inner')\n",
        "        cat_encoders[col] = [deepcopy(enc),\"ohe\"]\n",
        "    else:\n",
        "        print(\"Target Encoding of \", col)\n",
        "        enc = TargetEncoder()\n",
        "        enc.fit(X_tr[col] , y = y_tr , handle_unknown='value' )\n",
        "        pickle.dump(enc, open(col+'_trg_'+'pre_processing.p', \"wb\"))\n",
        "        new_col_name = col+\"_trg\"\n",
        "        X_tr[new_col_name] = enc.transform(X_tr[[col]])\n",
        "        X_ts[new_col_name] = enc.transform(X_ts[[col]])\n",
        "        cat_encoders[col] = [deepcopy(enc),\"trg\"]\n",
        "        cat_enc_columns.append(new_col_name)\n",
        "\n",
        "\n",
        "    cols_to_drop.append(col)"
      ],
      "metadata": {
        "pycharm": {
          "name": "#%%\n"
        },
        "id": "bYnljqUfLmQL",
        "outputId": "ddb8822a-08c6-45c2-fb7c-e67a7b4efa9f",
        "colab": {
          "base_uri": "https://localhost:8080/"
        }
      },
      "id": "bYnljqUfLmQL"
    },
    {
      "cell_type": "code",
      "execution_count": 232,
      "outputs": [
        {
          "output_type": "execute_result",
          "data": {
            "text/plain": [
              "(0, 0)"
            ]
          },
          "metadata": {},
          "execution_count": 232
        }
      ],
      "source": [
        "sum(X_tr.isna().sum()) , sum(X_ts.isna().sum())"
      ],
      "metadata": {
        "pycharm": {
          "name": "#%%\n"
        },
        "id": "cNVTJL5cLmQM",
        "outputId": "a2b11d71-6ceb-460e-f070-0098bf20d276",
        "colab": {
          "base_uri": "https://localhost:8080/"
        }
      },
      "id": "cNVTJL5cLmQM"
    },
    {
      "cell_type": "code",
      "execution_count": 233,
      "outputs": [
        {
          "output_type": "execute_result",
          "data": {
            "text/plain": [
              "((565197, 26), (242228, 26))"
            ]
          },
          "metadata": {},
          "execution_count": 233
        }
      ],
      "source": [
        "X_tr.shape , X_ts.shape"
      ],
      "metadata": {
        "pycharm": {
          "name": "#%%\n"
        },
        "id": "4W8HGK4HLmQN",
        "outputId": "a289caf5-141c-4592-b759-35b875b0d725",
        "colab": {
          "base_uri": "https://localhost:8080/"
        }
      },
      "id": "4W8HGK4HLmQN"
    },
    {
      "cell_type": "code",
      "execution_count": 234,
      "outputs": [
        {
          "output_type": "stream",
          "name": "stdout",
          "text": [
            "MinMax scale of  Zip\n",
            "MinMax scale of  NAICS\n",
            "MinMax scale of  Term\n",
            "MinMax scale of  NoEmp\n",
            "MinMax scale of  NewExist\n",
            "MinMax scale of  CreateJob\n",
            "MinMax scale of  RetainedJob\n",
            "MinMax scale of  FranchiseCode\n",
            "MinMax scale of  UrbanRural\n",
            "MinMax scale of  DisbursementGross\n",
            "MinMax scale of  BalanceGross\n",
            "MinMax scale of  GrAppv\n",
            "MinMax scale of  SBA_Appv\n",
            "MinMax scale of  bank_customer_state\n",
            "MinMax scale of  non_secured_loan\n",
            "MinMax scale of  City_trg\n",
            "MinMax scale of  State_trg\n"
          ]
        }
      ],
      "source": [
        "from sklearn.preprocessing import MinMaxScaler\n",
        "num_scalers = {}\n",
        "'''Scale only original columns'''\n",
        "for col in X_tr.columns[0:23]:\n",
        "    if X_tr[col].dtype != 'object':\n",
        "        print(\"MinMax scale of \", col)\n",
        "        scaler = MinMaxScaler()\n",
        "        scaler.fit(X_tr[[col]])\n",
        "        pickle.dump(scaler, open(col+'_sc_'+'pre_processing.p', \"wb\"))\n",
        "        X_tr[col+\"_sc\"] = scaler.transform(X_tr[[col]])\n",
        "        X_ts[col+\"_sc\"] = scaler.transform(X_ts[[col]])\n",
        "\n",
        "        num_scalers[col] = [deepcopy(scaler),\"MinMax\"]\n",
        "        cols_to_drop.append(col)"
      ],
      "metadata": {
        "pycharm": {
          "name": "#%%\n"
        },
        "id": "8mjlTU25LmQN",
        "outputId": "d521a4dd-4bc9-4c6c-c402-6d93311b5434",
        "colab": {
          "base_uri": "https://localhost:8080/"
        }
      },
      "id": "8mjlTU25LmQN"
    },
    {
      "cell_type": "code",
      "source": [
        "X_tr.drop(columns=cols_to_drop,axis=1,inplace=True)\n",
        "X_ts.drop(columns=cols_to_drop,axis=1,inplace=True)"
      ],
      "metadata": {
        "id": "3yBkmWRdI5_x"
      },
      "id": "3yBkmWRdI5_x",
      "execution_count": 235,
      "outputs": []
    },
    {
      "cell_type": "code",
      "execution_count": 236,
      "outputs": [
        {
          "output_type": "execute_result",
          "data": {
            "text/plain": [
              "((565197, 20), (242228, 20))"
            ]
          },
          "metadata": {},
          "execution_count": 236
        }
      ],
      "source": [
        "X_tr.shape , X_ts.shape"
      ],
      "metadata": {
        "pycharm": {
          "name": "#%%\n"
        },
        "id": "CFa6DVftLmQP",
        "outputId": "17a57c53-9ce4-45cd-d2d0-79ae526cc458",
        "colab": {
          "base_uri": "https://localhost:8080/"
        }
      },
      "id": "CFa6DVftLmQP"
    },
    {
      "cell_type": "markdown",
      "source": [
        "# Model Training"
      ],
      "metadata": {
        "collapsed": false,
        "id": "nCcb7W8WLmQP"
      },
      "id": "nCcb7W8WLmQP"
    },
    {
      "cell_type": "code",
      "execution_count": 237,
      "outputs": [],
      "source": [
        "from sklearn.linear_model import LogisticRegression\n",
        "from sklearn.metrics import roc_auc_score\n",
        "from sklearn.metrics import confusion_matrix"
      ],
      "metadata": {
        "pycharm": {
          "name": "#%%\n"
        },
        "id": "e_Gs6zPtLmQQ"
      },
      "id": "e_Gs6zPtLmQQ"
    },
    {
      "cell_type": "code",
      "execution_count": 238,
      "outputs": [
        {
          "output_type": "stream",
          "name": "stdout",
          "text": [
            "Logistic Regression Accuracy Score:  0.868481255208361\n",
            "Logistic Regression Accuracy Score:  0.8634674769225689\n",
            "Logistic Regression Confusion Matrix: \n",
            " [[0.80250603 0.02194102]\n",
            " [0.10957772 0.06597523]]\n",
            "Logistic Regression Confusion Matrix: \n",
            " [[0.80094787 0.0230733 ]\n",
            " [0.11345922 0.06251961]]\n",
            "Logistic Regression AUC Score:  0.8581267925493659\n",
            "Logistic Regression AUC Score:  0.8485591186678667\n",
            "CPU times: user 20.9 s, sys: 309 ms, total: 21.2 s\n",
            "Wall time: 25.6 s\n"
          ]
        }
      ],
      "source": [
        "%%time\n",
        "logreg = LogisticRegression(C=1.0 , max_iter=100,  n_jobs= -1,\n",
        "                            penalty= 'elasticnet' , l1_ratio=0.5,\n",
        "                            solver= 'saga')\n",
        "logreg.fit(X_tr, y_tr)\n",
        "# print logreg accuracy score, confusion matrix and auc score\n",
        "print(\"Logistic Regression Accuracy Score: \", logreg.score(X_tr, y_tr))\n",
        "print(\"Logistic Regression Accuracy Score: \", logreg.score(X_ts, y_ts))\n",
        "print(\"Logistic Regression Confusion Matrix: \\n\", confusion_matrix(y_tr, logreg.predict(X_tr))/X_tr.shape[0])\n",
        "print(\"Logistic Regression Confusion Matrix: \\n\", confusion_matrix(y_ts, logreg.predict(X_ts))/X_ts.shape[0])\n",
        "print(\"Logistic Regression AUC Score: \", roc_auc_score(y_tr, logreg.predict_proba(X_tr)[:,1]))\n",
        "print(\"Logistic Regression AUC Score: \", roc_auc_score(y_ts, logreg.predict_proba(X_ts)[:,1]))"
      ],
      "metadata": {
        "pycharm": {
          "name": "#%%\n"
        },
        "id": "7a8nbjEmLmQQ",
        "outputId": "3f5f5d3d-ad96-4350-b23f-a9f308d5036b",
        "colab": {
          "base_uri": "https://localhost:8080/"
        }
      },
      "id": "7a8nbjEmLmQQ"
    },
    {
      "cell_type": "code",
      "execution_count": 239,
      "outputs": [],
      "source": [
        "from sklearn.tree import DecisionTreeClassifier"
      ],
      "metadata": {
        "pycharm": {
          "name": "#%%\n"
        },
        "id": "tBtABrB6LmQR"
      },
      "id": "tBtABrB6LmQR"
    },
    {
      "cell_type": "code",
      "execution_count": 240,
      "outputs": [
        {
          "output_type": "stream",
          "name": "stdout",
          "text": [
            "Decision Tree Accuracy Score:  0.9120129795451851\n",
            "Decision Tree Accuracy Score:  0.9080370559968294\n",
            "Decision Tree Confusion Matrix: \n",
            " [[0.79303146 0.03141559]\n",
            " [0.05657143 0.11898152]]\n",
            "Decision Tree Confusion Matrix: \n",
            " [[0.79158066 0.03244051]\n",
            " [0.05952243 0.1164564 ]]\n",
            "Decision Tree AUC Score:  0.9343388930653271\n",
            "Decision Tree AUC Score:  0.9321157330616667\n",
            "CPU times: user 3.84 s, sys: 21.2 ms, total: 3.86 s\n",
            "Wall time: 3.85 s\n"
          ]
        }
      ],
      "source": [
        "%%time\n",
        "dtree = DecisionTreeClassifier(max_depth=6)\n",
        "dtree.fit(X_tr, y_tr)\n",
        "# print dtree accuracy score, confusion matrix and auc score\n",
        "print(\"Decision Tree Accuracy Score: \", dtree.score(X_tr, y_tr))\n",
        "print(\"Decision Tree Accuracy Score: \", dtree.score(X_ts, y_ts))\n",
        "print(\"Decision Tree Confusion Matrix: \\n\", confusion_matrix(y_tr, dtree.predict(X_tr))/X_tr.shape[0])\n",
        "print(\"Decision Tree Confusion Matrix: \\n\", confusion_matrix(y_ts, dtree.predict(X_ts))/X_ts.shape[0])\n",
        "print(\"Decision Tree AUC Score: \", roc_auc_score(y_tr, dtree.predict_proba(X_tr)[:,1]))\n",
        "print(\"Decision Tree AUC Score: \", roc_auc_score(y_ts, dtree.predict_proba(X_ts)[:,1]))"
      ],
      "metadata": {
        "pycharm": {
          "name": "#%%\n"
        },
        "id": "MUQnZzXBLmQR",
        "outputId": "b76e0d18-fc03-46fc-99d4-1d0c8d2d6cd5",
        "colab": {
          "base_uri": "https://localhost:8080/"
        }
      },
      "id": "MUQnZzXBLmQR"
    },
    {
      "cell_type": "code",
      "execution_count": 211,
      "outputs": [],
      "source": [
        "from sklearn.model_selection import GridSearchCV"
      ],
      "metadata": {
        "pycharm": {
          "name": "#%%\n"
        },
        "id": "xiuwa-lzLmQS"
      },
      "id": "xiuwa-lzLmQS"
    },
    {
      "cell_type": "code",
      "execution_count": 241,
      "outputs": [
        {
          "output_type": "stream",
          "name": "stdout",
          "text": [
            "{'C': 1, 'penalty': 'l2'}\n",
            "0.8577811499005478\n",
            "CPU times: user 6.92 s, sys: 2.71 s, total: 9.63 s\n",
            "Wall time: 22.5 s\n"
          ]
        },
        {
          "output_type": "execute_result",
          "data": {
            "text/plain": [
              "0.848472104339536"
            ]
          },
          "metadata": {},
          "execution_count": 241
        }
      ],
      "source": [
        "%%time\n",
        "model = LogisticRegression()\n",
        "param_grid = {'C': [0.001, 0.1 , 1], 'penalty': ['l1', 'l2' , 'elasticnet']}\n",
        "grid_search = GridSearchCV(model, param_grid, scoring= 'roc_auc' , cv=3, n_jobs=-1)\n",
        "grid_search.fit(X_tr, y_tr)\n",
        "#scores\n",
        "print(grid_search.best_params_)\n",
        "print(grid_search.best_score_)\n",
        "grid_search.score(X_ts, y_ts)"
      ],
      "metadata": {
        "pycharm": {
          "name": "#%%\n"
        },
        "id": "4sCSuwcLLmQS",
        "outputId": "51473b76-a225-4cbf-bf37-e7b623dc43f0",
        "colab": {
          "base_uri": "https://localhost:8080/"
        }
      },
      "id": "4sCSuwcLLmQS"
    },
    {
      "cell_type": "code",
      "execution_count": 242,
      "outputs": [
        {
          "output_type": "stream",
          "name": "stdout",
          "text": [
            "{'max_depth': 10}\n",
            "0.9619607009944416\n",
            "CPU times: user 5.78 s, sys: 121 ms, total: 5.9 s\n",
            "Wall time: 1min 13s\n"
          ]
        },
        {
          "output_type": "execute_result",
          "data": {
            "text/plain": [
              "0.9626302550511348"
            ]
          },
          "metadata": {},
          "execution_count": 242
        }
      ],
      "source": [
        "%%time\n",
        "model = DecisionTreeClassifier()\n",
        "param_grid = {'max_depth': [ 4, 6, 8, 10, 12, 15,  20]}\n",
        "grid_search = GridSearchCV(model, param_grid, scoring= 'roc_auc' , cv=3, n_jobs=-1)\n",
        "grid_search.fit(X_tr, y_tr)\n",
        "#scores\n",
        "print(grid_search.best_params_)\n",
        "print(grid_search.best_score_)\n",
        "grid_search.score(X_ts, y_ts)"
      ],
      "metadata": {
        "pycharm": {
          "name": "#%%\n"
        },
        "id": "HcLHLPZRLmQS",
        "outputId": "9cf1d194-59b1-49ff-91d8-0b7aa701b4d8",
        "colab": {
          "base_uri": "https://localhost:8080/"
        }
      },
      "id": "HcLHLPZRLmQS"
    },
    {
      "cell_type": "markdown",
      "source": [
        "## Model Tuning"
      ],
      "metadata": {
        "collapsed": false,
        "id": "zodve3KeLmQT"
      },
      "id": "zodve3KeLmQT"
    },
    {
      "cell_type": "code",
      "source": [
        "from sklearn.model_selection import RandomizedSearchCV\n",
        "from sklearn.model_selection import RepeatedStratifiedKFold\n",
        "from scipy.stats import randint"
      ],
      "metadata": {
        "pycharm": {
          "name": "#%%\n"
        },
        "id": "4rQpfTG6LmQT"
      },
      "execution_count": 243,
      "outputs": [],
      "id": "4rQpfTG6LmQT"
    },
    {
      "cell_type": "code",
      "execution_count": 244,
      "outputs": [
        {
          "output_type": "stream",
          "name": "stdout",
          "text": [
            "Best Score on Train: 0.9690844264920595\n",
            "Best Hyperparameters: {'class_weight': None, 'criterion': 'entropy', 'max_depth': 16, 'min_samples_leaf': 102, 'min_samples_split': 35, 'splitter': 'best'}\n",
            "Best Score on Test: 0.9685306043792757\n",
            "CPU times: user 9.64 s, sys: 834 ms, total: 10.5 s\n",
            "Wall time: 8min 28s\n"
          ]
        }
      ],
      "source": [
        "%%time\n",
        "model = DecisionTreeClassifier()\n",
        "space = {}\n",
        "space['max_depth'] =  randint(1, 40)\n",
        "space['min_samples_split'] = randint(2, 100)\n",
        "space['min_samples_leaf'] = randint(1, 1000)\n",
        "space['criterion'] = ['gini', 'entropy']\n",
        "space['class_weight'] = [None, 'balanced']\n",
        "space['splitter'] = ['best', 'random']\n",
        "\n",
        "cv = RepeatedStratifiedKFold(n_splits=3, n_repeats=1, random_state=2)\n",
        "rand_search = RandomizedSearchCV(model, space , n_iter= 100 , scoring= 'roc_auc', n_jobs=-1, cv=cv)\n",
        "\n",
        "# execute search\n",
        "result = rand_search.fit(X_tr, y_tr)\n",
        "# summarize result\n",
        "print('Best Score on Train: %s' % result.best_score_)\n",
        "print('Best Hyperparameters: %s' % result.best_params_)\n",
        "print('Best Score on Test: %s' % rand_search.score(X_ts, y_ts))"
      ],
      "metadata": {
        "pycharm": {
          "name": "#%%\n"
        },
        "id": "Q2pMAlcxLmQU",
        "outputId": "91276673-a029-4f99-9a80-f414545da415",
        "colab": {
          "base_uri": "https://localhost:8080/"
        }
      },
      "id": "Q2pMAlcxLmQU"
    }
  ],
  "metadata": {
    "kernelspec": {
      "display_name": "Python 3 (ipykernel)",
      "language": "python",
      "name": "python3"
    },
    "language_info": {
      "codemirror_mode": {
        "name": "ipython",
        "version": 3
      },
      "file_extension": ".py",
      "mimetype": "text/x-python",
      "name": "python",
      "nbconvert_exporter": "python",
      "pygments_lexer": "ipython3",
      "version": "3.8.10"
    },
    "colab": {
      "provenance": []
    }
  },
  "nbformat": 4,
  "nbformat_minor": 5
}